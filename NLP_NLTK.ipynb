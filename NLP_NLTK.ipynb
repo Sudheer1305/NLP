{
 "cells": [
  {
   "cell_type": "code",
   "execution_count": 1,
   "metadata": {},
   "outputs": [],
   "source": [
    "import nltk\n",
    "from nltk import word_tokenize\n",
    "from nltk import sent_tokenize"
   ]
  },
  {
   "cell_type": "code",
   "execution_count": 7,
   "metadata": {},
   "outputs": [],
   "source": [
    "text_file = open(\"../Data/sample.txt\")\n",
    "text = text_file.read()"
   ]
  },
  {
   "cell_type": "code",
   "execution_count": 9,
   "metadata": {},
   "outputs": [
    {
     "name": "stdout",
     "output_type": "stream",
     "text": [
      "A salt seller used to carry the salt bag on his donkey to the market every day.\n",
      "\n",
      "On the way they had to cross a stream. One day the donkey suddenly tumbled down the stream and the salt bag also fell into the water. The salt dissolved in the water and hence the bag became very light to carry. The donkey was happy.\n",
      "\n",
      "Then the donkey started to play the same trick every day.\n",
      "\n",
      "The salt seller came to understand the trick and decided to teach a lesson to it. The next day he loaded a cotton bag on the donkey.\n",
      "\n",
      "Again it played the same trick hoping that the cotton bag would be still become lighter.\n",
      "But the dampened cotton became very heavy to carry and the donkey suffered. It learnt a lesson. It didnâ€™t play the trick anymore after that day, and the seller was happy.\n"
     ]
    }
   ],
   "source": [
    "print(text)"
   ]
  },
  {
   "cell_type": "code",
   "execution_count": 10,
   "metadata": {},
   "outputs": [],
   "source": [
    "sentences = sent_tokenize(text)"
   ]
  },
  {
   "cell_type": "code",
   "execution_count": 11,
   "metadata": {},
   "outputs": [
    {
     "name": "stdout",
     "output_type": "stream",
     "text": [
      "12\n",
      "['A salt seller used to carry the salt bag on his donkey to the market every day.', 'On the way they had to cross a stream.', 'One day the donkey suddenly tumbled down the stream and the salt bag also fell into the water.', 'The salt dissolved in the water and hence the bag became very light to carry.', 'The donkey was happy.', 'Then the donkey started to play the same trick every day.', 'The salt seller came to understand the trick and decided to teach a lesson to it.', 'The next day he loaded a cotton bag on the donkey.', 'Again it played the same trick hoping that the cotton bag would be still become lighter.', 'But the dampened cotton became very heavy to carry and the donkey suffered.', 'It learnt a lesson.', 'It didnâ€™t play the trick anymore after that day, and the seller was happy.']\n"
     ]
    }
   ],
   "source": [
    "print(len(sentences))\n",
    "print(sentences)"
   ]
  },
  {
   "cell_type": "code",
   "execution_count": 14,
   "metadata": {},
   "outputs": [],
   "source": [
    "words = word_tokenize(text)"
   ]
  },
  {
   "cell_type": "code",
   "execution_count": 15,
   "metadata": {},
   "outputs": [
    {
     "name": "stdout",
     "output_type": "stream",
     "text": [
      "161\n",
      "['A', 'salt', 'seller', 'used', 'to', 'carry', 'the', 'salt', 'bag', 'on', 'his', 'donkey', 'to', 'the', 'market', 'every', 'day', '.', 'On', 'the', 'way', 'they', 'had', 'to', 'cross', 'a', 'stream', '.', 'One', 'day', 'the', 'donkey', 'suddenly', 'tumbled', 'down', 'the', 'stream', 'and', 'the', 'salt', 'bag', 'also', 'fell', 'into', 'the', 'water', '.', 'The', 'salt', 'dissolved', 'in', 'the', 'water', 'and', 'hence', 'the', 'bag', 'became', 'very', 'light', 'to', 'carry', '.', 'The', 'donkey', 'was', 'happy', '.', 'Then', 'the', 'donkey', 'started', 'to', 'play', 'the', 'same', 'trick', 'every', 'day', '.', 'The', 'salt', 'seller', 'came', 'to', 'understand', 'the', 'trick', 'and', 'decided', 'to', 'teach', 'a', 'lesson', 'to', 'it', '.', 'The', 'next', 'day', 'he', 'loaded', 'a', 'cotton', 'bag', 'on', 'the', 'donkey', '.', 'Again', 'it', 'played', 'the', 'same', 'trick', 'hoping', 'that', 'the', 'cotton', 'bag', 'would', 'be', 'still', 'become', 'lighter', '.', 'But', 'the', 'dampened', 'cotton', 'became', 'very', 'heavy', 'to', 'carry', 'and', 'the', 'donkey', 'suffered', '.', 'It', 'learnt', 'a', 'lesson', '.', 'It', 'didnâ€™t', 'play', 'the', 'trick', 'anymore', 'after', 'that', 'day', ',', 'and', 'the', 'seller', 'was', 'happy', '.']\n"
     ]
    }
   ],
   "source": [
    "print(len(words))\n",
    "print(words)"
   ]
  },
  {
   "cell_type": "markdown",
   "metadata": {},
   "source": [
    "## Frequency Distribution"
   ]
  },
  {
   "cell_type": "code",
   "execution_count": 16,
   "metadata": {},
   "outputs": [],
   "source": [
    "from nltk.probability import FreqDist"
   ]
  },
  {
   "cell_type": "code",
   "execution_count": 17,
   "metadata": {},
   "outputs": [],
   "source": [
    "fdist = FreqDist(words)"
   ]
  },
  {
   "cell_type": "code",
   "execution_count": 20,
   "metadata": {},
   "outputs": [
    {
     "data": {
      "text/plain": [
       "[('the', 19),\n",
       " ('.', 12),\n",
       " ('to', 9),\n",
       " ('donkey', 6),\n",
       " ('salt', 5),\n",
       " ('bag', 5),\n",
       " ('day', 5),\n",
       " ('and', 5),\n",
       " ('a', 4),\n",
       " ('The', 4)]"
      ]
     },
     "execution_count": 20,
     "metadata": {},
     "output_type": "execute_result"
    }
   ],
   "source": [
    "fdist.most_common(10)"
   ]
  },
  {
   "cell_type": "markdown",
   "metadata": {},
   "source": [
    "## Plot the Frequency Graph"
   ]
  },
  {
   "cell_type": "code",
   "execution_count": 21,
   "metadata": {},
   "outputs": [],
   "source": [
    "import matplotlib.pyplot as plt"
   ]
  },
  {
   "cell_type": "code",
   "execution_count": 22,
   "metadata": {},
   "outputs": [
    {
     "data": {
      "image/png": "[encoded data removed]",
      "text/plain": [
       "<Figure size 432x288 with 1 Axes>"
      ]
     },
     "metadata": {
      "needs_background": "light"
     },
     "output_type": "display_data"
    },
    {
     "data": {
      "text/plain": [
       "<matplotlib.axes._subplots.AxesSubplot at 0x2211e87db38>"
      ]
     },
     "execution_count": 22,
     "metadata": {},
     "output_type": "execute_result"
    }
   ],
   "source": [
    "fdist.plot(10)"
   ]
  },
  {
   "cell_type": "markdown",
   "metadata": {},
   "source": [
    "## Remove Punctuation marks"
   ]
  },
  {
   "cell_type": "code",
   "execution_count": 23,
   "metadata": {},
   "outputs": [
    {
     "name": "stdout",
     "output_type": "stream",
     "text": [
      "['A', 'salt', 'seller', 'used', 'to', 'carry', 'the', 'salt', 'bag', 'on', 'his', 'donkey', 'to', 'the', 'market', 'every', 'day', 'On', 'the', 'way', 'they', 'had', 'to', 'cross', 'a', 'stream', 'One', 'day', 'the', 'donkey', 'suddenly', 'tumbled', 'down', 'the', 'stream', 'and', 'the', 'salt', 'bag', 'also', 'fell', 'into', 'the', 'water', 'The', 'salt', 'dissolved', 'in', 'the', 'water', 'and', 'hence', 'the', 'bag', 'became', 'very', 'light', 'to', 'carry', 'The', 'donkey', 'was', 'happy', 'Then', 'the', 'donkey', 'started', 'to', 'play', 'the', 'same', 'trick', 'every', 'day', 'The', 'salt', 'seller', 'came', 'to', 'understand', 'the', 'trick', 'and', 'decided', 'to', 'teach', 'a', 'lesson', 'to', 'it', 'The', 'next', 'day', 'he', 'loaded', 'a', 'cotton', 'bag', 'on', 'the', 'donkey', 'Again', 'it', 'played', 'the', 'same', 'trick', 'hoping', 'that', 'the', 'cotton', 'bag', 'would', 'be', 'still', 'become', 'lighter', 'But', 'the', 'dampened', 'cotton', 'became', 'very', 'heavy', 'to', 'carry', 'and', 'the', 'donkey', 'suffered', 'It', 'learnt', 'a', 'lesson', 'It', 'play', 'the', 'trick', 'anymore', 'after', 'that', 'day', 'and', 'the', 'seller', 'was', 'happy']\n",
      "147\n"
     ]
    }
   ],
   "source": [
    "words_no_punc = []\n",
    "for w in words:\n",
    "    if w.isalpha():\n",
    "        words_no_punc.append(w)\n",
    "\n",
    "print(words_no_punc)\n",
    "print(len(words_no_punc))\n",
    "        "
   ]
  },
  {
   "cell_type": "markdown",
   "metadata": {},
   "source": [
    "## Removing Stop words"
   ]
  },
  {
   "cell_type": "code",
   "execution_count": 32,
   "metadata": {},
   "outputs": [],
   "source": [
    "from nltk.corpus import stopwords"
   ]
  },
  {
   "cell_type": "code",
   "execution_count": 33,
   "metadata": {},
   "outputs": [],
   "source": [
    "stopwords = stopwords.words('english')"
   ]
  },
  {
   "cell_type": "code",
   "execution_count": 34,
   "metadata": {},
   "outputs": [
    {
     "name": "stdout",
     "output_type": "stream",
     "text": [
      "['i', 'me', 'my', 'myself', 'we', 'our', 'ours', 'ourselves', 'you', \"you're\", \"you've\", \"you'll\", \"you'd\", 'your', 'yours', 'yourself', 'yourselves', 'he', 'him', 'his', 'himself', 'she', \"she's\", 'her', 'hers', 'herself', 'it', \"it's\", 'its', 'itself', 'they', 'them', 'their', 'theirs', 'themselves', 'what', 'which', 'who', 'whom', 'this', 'that', \"that'll\", 'these', 'those', 'am', 'is', 'are', 'was', 'were', 'be', 'been', 'being', 'have', 'has', 'had', 'having', 'do', 'does', 'did', 'doing', 'a', 'an', 'the', 'and', 'but', 'if', 'or', 'because', 'as', 'until', 'while', 'of', 'at', 'by', 'for', 'with', 'about', 'against', 'between', 'into', 'through', 'during', 'before', 'after', 'above', 'below', 'to', 'from', 'up', 'down', 'in', 'out', 'on', 'off', 'over', 'under', 'again', 'further', 'then', 'once', 'here', 'there', 'when', 'where', 'why', 'how', 'all', 'any', 'both', 'each', 'few', 'more', 'most', 'other', 'some', 'such', 'no', 'nor', 'not', 'only', 'own', 'same', 'so', 'than', 'too', 'very', 's', 't', 'can', 'will', 'just', 'don', \"don't\", 'should', \"should've\", 'now', 'd', 'll', 'm', 'o', 're', 've', 'y', 'ain', 'aren', \"aren't\", 'couldn', \"couldn't\", 'didn', \"didn't\", 'doesn', \"doesn't\", 'hadn', \"hadn't\", 'hasn', \"hasn't\", 'haven', \"haven't\", 'isn', \"isn't\", 'ma', 'mightn', \"mightn't\", 'mustn', \"mustn't\", 'needn', \"needn't\", 'shan', \"shan't\", 'shouldn', \"shouldn't\", 'wasn', \"wasn't\", 'weren', \"weren't\", 'won', \"won't\", 'wouldn', \"wouldn't\"]\n"
     ]
    }
   ],
   "source": [
    "print(stopwords)"
   ]
  },
  {
   "cell_type": "code",
   "execution_count": 35,
   "metadata": {},
   "outputs": [
    {
     "name": "stdout",
     "output_type": "stream",
     "text": [
      "['A', 'salt', 'seller', 'used', 'carry', 'salt', 'bag', 'donkey', 'market', 'every', 'day', '.', 'On', 'way', 'cross', 'stream', '.', 'One', 'day', 'donkey', 'suddenly', 'tumbled', 'stream', 'salt', 'bag', 'also', 'fell', 'water', '.', 'The', 'salt', 'dissolved', 'water', 'hence', 'bag', 'became', 'light', 'carry', '.', 'The', 'donkey', 'happy', '.', 'Then', 'donkey', 'started', 'play', 'trick', 'every', 'day', '.', 'The', 'salt', 'seller', 'came', 'understand', 'trick', 'decided', 'teach', 'lesson', '.', 'The', 'next', 'day', 'loaded', 'cotton', 'bag', 'donkey', '.', 'Again', 'played', 'trick', 'hoping', 'cotton', 'bag', 'would', 'still', 'become', 'lighter', '.', 'But', 'dampened', 'cotton', 'became', 'heavy', 'carry', 'donkey', 'suffered', '.', 'It', 'learnt', 'lesson', '.', 'It', 'didnâ€™t', 'play', 'trick', 'anymore', 'day', ',', 'seller', 'happy', '.']\n"
     ]
    }
   ],
   "source": [
    "clean_words = []\n",
    "for w in words:\n",
    "    if w not in stopwords:\n",
    "        clean_words.append(w)\n",
    "        \n",
    "print(clean_words)"
   ]
  },
  {
   "cell_type": "markdown",
   "metadata": {},
   "source": [
    "## Stemming"
   ]
  },
  {
   "cell_type": "code",
   "execution_count": 36,
   "metadata": {},
   "outputs": [],
   "source": [
    "from nltk.stem import PorterStemmer"
   ]
  },
  {
   "cell_type": "code",
   "execution_count": 37,
   "metadata": {},
   "outputs": [],
   "source": [
    "porter = PorterStemmer()"
   ]
  },
  {
   "cell_type": "code",
   "execution_count": 38,
   "metadata": {},
   "outputs": [
    {
     "name": "stdout",
     "output_type": "stream",
     "text": [
      "studi\n",
      "studi\n",
      "studi\n",
      "studi\n"
     ]
    }
   ],
   "source": [
    "words = [\"study\", \"studying\", \"studies\", \"studied\"]\n",
    "for w in words:\n",
    "    print(porter.stem(w))"
   ]
  },
  {
   "cell_type": "markdown",
   "metadata": {},
   "source": [
    "## Lemmatization"
   ]
  },
  {
   "cell_type": "code",
   "execution_count": 39,
   "metadata": {},
   "outputs": [],
   "source": [
    "from nltk.stem import WordNetLemmatizer"
   ]
  },
  {
   "cell_type": "code",
   "execution_count": 40,
   "metadata": {},
   "outputs": [],
   "source": [
    "lemmatizer = WordNetLemmatizer()"
   ]
  },
  {
   "cell_type": "code",
   "execution_count": 42,
   "metadata": {},
   "outputs": [
    {
     "name": "stderr",
     "output_type": "stream",
     "text": [
      "[nltk_data] Downloading package wordnet to\n",
      "[nltk_data]     C:\\Users\\Sagar\\AppData\\Roaming\\nltk_data...\n",
      "[nltk_data]   Unzipping corpora\\wordnet.zip.\n"
     ]
    },
    {
     "data": {
      "text/plain": [
       "True"
      ]
     },
     "execution_count": 42,
     "metadata": {},
     "output_type": "execute_result"
    }
   ],
   "source": [
    "nltk.download('wordnet')"
   ]
  },
  {
   "cell_type": "code",
   "execution_count": 43,
   "metadata": {},
   "outputs": [
    {
     "name": "stdout",
     "output_type": "stream",
     "text": [
      "study\n",
      "studying\n",
      "study\n",
      "studied\n"
     ]
    }
   ],
   "source": [
    "for w in words:\n",
    "    print(lemmatizer.lemmatize(w))"
   ]
  },
  {
   "cell_type": "markdown",
   "metadata": {},
   "source": [
    "## POS Tags"
   ]
  },
  {
   "cell_type": "code",
   "execution_count": 49,
   "metadata": {},
   "outputs": [
    {
     "name": "stdout",
     "output_type": "stream",
     "text": [
      "[('Sudheer', 'NNP'), ('playing', 'VBG'), ('cricket', 'NN')]\n"
     ]
    }
   ],
   "source": [
    "print(nltk.pos_tag(['Sudheer', 'playing', 'cricket']))"
   ]
  },
  {
   "cell_type": "code",
   "execution_count": null,
   "metadata": {},
   "outputs": [],
   "source": []
  },
  {
   "cell_type": "markdown",
   "metadata": {},
   "source": [
    "## Chunking\n",
    "Chunking means to extract meaningful phrases from unstructured text. By tokenizing a book into words, it’s sometimes hard to infer meaningful information. It works on top of Part of Speech(PoS) tagging. Chunking takes PoS tags as input and provides chunks as output. "
   ]
  },
  {
   "cell_type": "code",
   "execution_count": 63,
   "metadata": {},
   "outputs": [],
   "source": [
    "sent = \"A very beautiful young lady is walking down the street\""
   ]
  },
  {
   "cell_type": "code",
   "execution_count": 65,
   "metadata": {},
   "outputs": [],
   "source": [
    "words = word_tokenize(sent)\n",
    "tagged = nltk.pos_tag(words)"
   ]
  },
  {
   "cell_type": "code",
   "execution_count": 67,
   "metadata": {},
   "outputs": [
    {
     "name": "stdout",
     "output_type": "stream",
     "text": [
      "(S\n",
      "  A/DT\n",
      "  (Chunk very/RB)\n",
      "  beautiful/JJ\n",
      "  young/JJ\n",
      "  lady/NN\n",
      "  is/VBZ\n",
      "  walking/VBG\n",
      "  down/RP\n",
      "  the/DT\n",
      "  street/NN)\n"
     ]
    }
   ],
   "source": [
    "chunkgram = r\"\"\"Chunk: {<RB.?>*}\"\"\"\n",
    "parser = nltk.RegexpParser(chunkgram)\n",
    "output = parser.parse(tagged)\n",
    "print(output)"
   ]
  },
  {
   "cell_type": "code",
   "execution_count": 68,
   "metadata": {},
   "outputs": [],
   "source": [
    "output.draw()"
   ]
  },
  {
   "cell_type": "markdown",
   "metadata": {},
   "source": [
    "## Chinking\n",
    "Chinking excludes a part from our chunk. There are certain situations where we need to exclude a part of the text from the whole text or chunk. In complex extractions, it is possible that chunking can output unuseful data."
   ]
  },
  {
   "cell_type": "code",
   "execution_count": 73,
   "metadata": {},
   "outputs": [
    {
     "name": "stdout",
     "output_type": "stream",
     "text": [
      "(S\n",
      "  (Chunk A/DT very/RB)\n",
      "  beautiful/JJ\n",
      "  young/JJ\n",
      "  (Chunk lady/NN is/VBZ walking/VBG down/RP the/DT street/NN))\n"
     ]
    }
   ],
   "source": [
    "chunkgram = r\"\"\"Chunk: {<.*>+}\n",
    "                }<JJ>+{\"\"\"\n",
    "parser = nltk.RegexpParser(chunkgram)\n",
    "output = parser.parse(tagged)\n",
    "print(output)"
   ]
  },
  {
   "cell_type": "markdown",
   "metadata": {},
   "source": [
    "### Named Entity Recognition (NER):\n",
    "Named entity recognition can automatically scan entire articles and pull out some fundamental entities like people, organizations, places, date, time, money, and GPE discussed in them."
   ]
  },
  {
   "cell_type": "code",
   "execution_count": 75,
   "metadata": {},
   "outputs": [
    {
     "name": "stderr",
     "output_type": "stream",
     "text": [
      "[nltk_data] Downloading package maxent_ne_chunker to\n",
      "[nltk_data]     C:\\Users\\Sagar\\AppData\\Roaming\\nltk_data...\n",
      "[nltk_data]   Unzipping chunkers\\maxent_ne_chunker.zip.\n"
     ]
    },
    {
     "data": {
      "text/plain": [
       "True"
      ]
     },
     "execution_count": 75,
     "metadata": {},
     "output_type": "execute_result"
    }
   ],
   "source": [
    "nltk.download('maxent_ne_chunker')"
   ]
  },
  {
   "cell_type": "code",
   "execution_count": 78,
   "metadata": {},
   "outputs": [
    {
     "name": "stdout",
     "output_type": "stream",
     "text": [
      "showing info https://raw.githubusercontent.com/nltk/nltk_data/gh-pages/index.xml\n"
     ]
    },
    {
     "data": {
      "text/plain": [
       "True"
      ]
     },
     "execution_count": 78,
     "metadata": {},
     "output_type": "execute_result"
    }
   ],
   "source": [
    "nltk.download()"
   ]
  },
  {
   "cell_type": "code",
   "execution_count": 86,
   "metadata": {},
   "outputs": [],
   "source": [
    "sent = \"Monalisa very beautiful young lady is walking down the street\"\n",
    "words = word_tokenize(sent)\n",
    "tagged = nltk.pos_tag(words)"
   ]
  },
  {
   "cell_type": "code",
   "execution_count": 89,
   "metadata": {},
   "outputs": [
    {
     "name": "stdout",
     "output_type": "stream",
     "text": [
      "(S\n",
      "  (NE Monalisa/NNP)\n",
      "  very/RB\n",
      "  beautiful/JJ\n",
      "  young/JJ\n",
      "  lady/NN\n",
      "  is/VBZ\n",
      "  walking/VBG\n",
      "  down/RP\n",
      "  the/DT\n",
      "  street/NN)\n"
     ]
    }
   ],
   "source": [
    "NER = nltk.ne_chunk(tagged, binary = True)\n",
    "print(NER)"
   ]
  },
  {
   "cell_type": "code",
   "execution_count": 90,
   "metadata": {},
   "outputs": [],
   "source": [
    "NER.draw()"
   ]
  },
  {
   "cell_type": "code",
   "execution_count": null,
   "metadata": {},
   "outputs": [],
   "source": []
  }
 ],
 "metadata": {
  "kernelspec": {
   "display_name": "Python 3",
   "language": "python",
   "name": "python3"
  },
  "language_info": {
   "codemirror_mode": {
    "name": "ipython",
    "version": 3
   },
   "file_extension": ".py",
   "mimetype": "text/x-python",
   "name": "python",
   "nbconvert_exporter": "python",
   "pygments_lexer": "ipython3",
   "version": "3.6.6"
  }
 },
 "nbformat": 4,
 "nbformat_minor": 2
}
